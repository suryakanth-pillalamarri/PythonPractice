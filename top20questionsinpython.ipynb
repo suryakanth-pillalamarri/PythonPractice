{
 "cells": [
  {
   "cell_type": "markdown",
   "metadata": {},
   "source": [
    "Certainly! Here's a list of 20 Python interview questions in a concise format:\n",
    "\n",
    "Reverse a string.\n",
    "Check if a string is a palindrome.\n",
    "Find the factorial of a number.\n",
    "Sort a list of strings based on their lengths.\n",
    "Count the occurrences of each word in a sentence.\n",
    "Find the largest number in a list.\n",
    "Implement a stack using a list.\n",
    "Check if a given number is prime.\n",
    "Merge two sorted lists into one sorted list.\n",
    "Reverse words in a sentence.\n",
    "Remove duplicates from a list.\n",
    "Check if two strings are anagrams.\n",
    "Implement FizzBuzz.\n",
    "Find the second largest number in a list.\n",
    "Calculate the sum of digits in a number.\n",
    "Implement binary search on a sorted list.\n",
    "Find the intersection of two lists.\n",
    "Calculate the Fibonacci sequence up to a certain number.\n",
    "Implement a queue using two stacks.\n",
    "Find the missing number in a given integer array of 1 to 100."
   ]
  },
  {
   "cell_type": "code",
   "execution_count": 1,
   "metadata": {},
   "outputs": [
    {
     "name": "stdout",
     "output_type": "stream",
     "text": [
      "anhsirk\n"
     ]
    }
   ],
   "source": [
    "#reverse a string\n",
    "string1=\"krishna\"\n",
    "print(string1[::-1])"
   ]
  },
  {
   "cell_type": "code",
   "execution_count": 3,
   "metadata": {},
   "outputs": [
    {
     "name": "stdout",
     "output_type": "stream",
     "text": [
      "Not a palindrome\n"
     ]
    }
   ],
   "source": [
    "# Check if a string is a palindrome.\n",
    "string2=\"vasudeva\"\n",
    "if string2==string2[::-1]:\n",
    "    print(\"palindrome\")\n",
    "else:\n",
    "    print('Not a palindrome')"
   ]
  },
  {
   "cell_type": "code",
   "execution_count": 4,
   "metadata": {},
   "outputs": [
    {
     "name": "stdout",
     "output_type": "stream",
     "text": [
      "362880\n"
     ]
    }
   ],
   "source": [
    "#Find the factorial of a number.\n",
    "def factorial(n):\n",
    "    if n==1:\n",
    "        return 1\n",
    "    else:\n",
    "        return n*factorial(n-1)\n",
    "\n",
    "\n",
    "print(factorial(9))"
   ]
  },
  {
   "cell_type": "code",
   "execution_count": 10,
   "metadata": {},
   "outputs": [
    {
     "name": "stdout",
     "output_type": "stream",
     "text": [
      "Sorted list ['a', 'ab', 'abc', 'abcd']\n"
     ]
    }
   ],
   "source": [
    "#Sort a list of strings based on their lengths.\n",
    "#If two strings have the same length, sort them in alphabetical order.\n",
    "#For example, given the list [\"a\", \"abc\", \"ab\", \"abcd\"], return\n",
    "#[\"a\", \"ab\", \"abc\", \"abcd\"].\n",
    "dict1={}\n",
    "lis=[\"a\", \"abc\", \"ab\", \"abcd\"]\n",
    "for ele in lis:\n",
    "    dict1[ele]=len(ele)\n",
    "\n",
    "#now sorting the values based on the keys.\n",
    "sorted_dict=dict(sorted(dict1.items(),key=lambda x:x[1]))\n",
    "list1=list(sorted_dict.keys())\n",
    "print('Sorted list',list1)"
   ]
  },
  {
   "cell_type": "code",
   "execution_count": 21,
   "metadata": {},
   "outputs": [
    {
     "name": "stdout",
     "output_type": "stream",
     "text": [
      "{1: 6, 2: 4, 3: 2, 4: 2, 5: 2}\n"
     ]
    }
   ],
   "source": [
    "# Count the occurrences of each element in a list.\n",
    "\n",
    "list2=[1,1,2,2,1,1,2,3,3,2,1,1,4,4,5,5]\n",
    "set1=[]\n",
    "for i in list2:\n",
    "    if i not in set1:\n",
    "        set1.append(i)\n",
    "freq=[0]*len(set1)\n",
    "for ele in set1:\n",
    "    if ele in list2:\n",
    "        freq[set1.index(ele)]=list2.count(ele)\n",
    "dict2=dict(zip(set1,freq))\n",
    "print(dict2)"
   ]
  },
  {
   "cell_type": "code",
   "execution_count": 22,
   "metadata": {},
   "outputs": [
    {
     "name": "stdout",
     "output_type": "stream",
     "text": [
      "Counter({'rama': 3, 'jaya': 3, 'Sri': 1})\n"
     ]
    }
   ],
   "source": [
    "# Count the occurrences of each word in a sentence.\n",
    "from collections import Counter\n",
    "sentence=\"Sri rama jaya rama jaya jaya rama\"\n",
    "\n",
    "senlist=sentence.split()\n",
    "c=Counter(senlist)\n",
    "\n",
    "print(c)"
   ]
  },
  {
   "cell_type": "code",
   "execution_count": null,
   "metadata": {},
   "outputs": [],
   "source": [
    "print('vasudeva')"
   ]
  }
 ],
 "metadata": {
  "kernelspec": {
   "display_name": "base",
   "language": "python",
   "name": "python3"
  },
  "language_info": {
   "codemirror_mode": {
    "name": "ipython",
    "version": 3
   },
   "file_extension": ".py",
   "mimetype": "text/x-python",
   "name": "python",
   "nbconvert_exporter": "python",
   "pygments_lexer": "ipython3",
   "version": "3.9.13"
  }
 },
 "nbformat": 4,
 "nbformat_minor": 2
}
