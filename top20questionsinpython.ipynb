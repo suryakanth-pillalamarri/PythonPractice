{
 "cells": [
  {
   "cell_type": "markdown",
   "metadata": {},
   "source": [
    "Certainly! Here's a list of 20 Python interview questions in a concise format:\n",
    "\n",
    "Reverse a string.\n",
    "Check if a string is a palindrome.\n",
    "Find the factorial of a number.\n",
    "Sort a list of strings based on their lengths.\n",
    "Count the occurrences of each word in a sentence.\n",
    "Find the largest number in a list.\n",
    "Implement a stack using a list.\n",
    "Check if a given number is prime.\n",
    "Merge two sorted lists into one sorted list.\n",
    "Reverse words in a sentence.\n",
    "Remove duplicates from a list.\n",
    "Check if two strings are anagrams.\n",
    "Implement FizzBuzz.\n",
    "Find the second largest number in a list.\n",
    "Calculate the sum of digits in a number.\n",
    "Implement binary search on a sorted list.\n",
    "Find the intersection of two lists.\n",
    "Calculate the Fibonacci sequence up to a certain number.\n",
    "Implement a queue using two stacks.\n",
    "Find the missing number in a given integer array of 1 to 100."
   ]
  },
  {
   "cell_type": "code",
   "execution_count": 1,
   "metadata": {},
   "outputs": [
    {
     "name": "stdout",
     "output_type": "stream",
     "text": [
      "anhsirk\n"
     ]
    }
   ],
   "source": [
    "#reverse a string\n",
    "string1=\"krishna\"\n",
    "print(string1[::-1])"
   ]
  },
  {
   "cell_type": "code",
   "execution_count": 3,
   "metadata": {},
   "outputs": [
    {
     "name": "stdout",
     "output_type": "stream",
     "text": [
      "Not a palindrome\n"
     ]
    }
   ],
   "source": [
    "# Check if a string is a palindrome.\n",
    "string2=\"vasudeva\"\n",
    "if string2==string2[::-1]:\n",
    "    print(\"palindrome\")\n",
    "else:\n",
    "    print('Not a palindrome')"
   ]
  },
  {
   "cell_type": "code",
   "execution_count": 4,
   "metadata": {},
   "outputs": [
    {
     "name": "stdout",
     "output_type": "stream",
     "text": [
      "362880\n"
     ]
    }
   ],
   "source": [
    "#Find the factorial of a number.\n",
    "def factorial(n):\n",
    "    if n==1:\n",
    "        return 1\n",
    "    else:\n",
    "        return n*factorial(n-1)\n",
    "\n",
    "\n",
    "print(factorial(9))"
   ]
  },
  {
   "cell_type": "code",
   "execution_count": 10,
   "metadata": {},
   "outputs": [
    {
     "name": "stdout",
     "output_type": "stream",
     "text": [
      "Sorted list ['a', 'ab', 'abc', 'abcd']\n"
     ]
    }
   ],
   "source": [
    "#Sort a list of strings based on their lengths.\n",
    "#If two strings have the same length, sort them in alphabetical order.\n",
    "#For example, given the list [\"a\", \"abc\", \"ab\", \"abcd\"], return\n",
    "#[\"a\", \"ab\", \"abc\", \"abcd\"].\n",
    "dict1={}\n",
    "lis=[\"a\", \"abc\", \"ab\", \"abcd\"]\n",
    "for ele in lis:\n",
    "    dict1[ele]=len(ele)\n",
    "\n",
    "#now sorting the values based on the keys.\n",
    "sorted_dict=dict(sorted(dict1.items(),key=lambda x:x[1]))\n",
    "list1=list(sorted_dict.keys())\n",
    "print('Sorted list',list1)"
   ]
  },
  {
   "cell_type": "code",
   "execution_count": 21,
   "metadata": {},
   "outputs": [
    {
     "name": "stdout",
     "output_type": "stream",
     "text": [
      "{1: 6, 2: 4, 3: 2, 4: 2, 5: 2}\n"
     ]
    }
   ],
   "source": [
    "# Count the occurrences of each element in a list.\n",
    "\n",
    "list2=[1,1,2,2,1,1,2,3,3,2,1,1,4,4,5,5]\n",
    "set1=[]\n",
    "for i in list2:\n",
    "    if i not in set1:\n",
    "        set1.append(i)\n",
    "freq=[0]*len(set1)\n",
    "for ele in set1:\n",
    "    if ele in list2:\n",
    "        freq[set1.index(ele)]=list2.count(ele)\n",
    "dict2=dict(zip(set1,freq))\n",
    "print(dict2)"
   ]
  },
  {
   "cell_type": "code",
   "execution_count": 22,
   "metadata": {},
   "outputs": [
    {
     "name": "stdout",
     "output_type": "stream",
     "text": [
      "Counter({'rama': 3, 'jaya': 3, 'Sri': 1})\n"
     ]
    }
   ],
   "source": [
    "# Count the occurrences of each word in a sentence.\n",
    "from collections import Counter\n",
    "sentence=\"Sri rama jaya rama jaya jaya rama\"\n",
    "\n",
    "senlist=sentence.split()\n",
    "c=Counter(senlist)\n",
    "\n",
    "print(c)"
   ]
  },
  {
   "cell_type": "code",
   "execution_count": 2,
   "metadata": {},
   "outputs": [
    {
     "name": "stdout",
     "output_type": "stream",
     "text": [
      "vasudeva\n"
     ]
    }
   ],
   "source": [
    "print('vasudeva')"
   ]
  },
  {
   "cell_type": "markdown",
   "metadata": {},
   "source": [
    "# Decarator"
   ]
  },
  {
   "cell_type": "code",
   "execution_count": 10,
   "metadata": {},
   "outputs": [],
   "source": [
    "def greet_decarator(function):\n",
    "    def wrapper():\n",
    "        print(\"Hello, I'm a decorator!\")\n",
    "        print(\"i am nothing but wrapper fuunction like wrapper to gift\")\n",
    "        function()\n",
    "    return wrapper"
   ]
  },
  {
   "cell_type": "code",
   "execution_count": 11,
   "metadata": {},
   "outputs": [
    {
     "name": "stdout",
     "output_type": "stream",
     "text": [
      "Hello, I'm a decorator!\n",
      "i am nothing but wrapper fuunction like wrapper to gift\n",
      "Hello! from the original function :)\n"
     ]
    }
   ],
   "source": [
    "@greet_decarator\n",
    "def say_hello():\n",
    "    print(\"Hello! from the original function :)\")\n",
    "    \n",
    "say_hello()"
   ]
  },
  {
   "cell_type": "markdown",
   "metadata": {},
   "source": [
    "# generator\n",
    "Generatoers are used while reding large files,for handling infinite sequences,pipelining operations,anonymous programing and memorey efficiency\n",
    "\n",
    "\n",
    "def read_large_file(file_path):\n",
    "    with open(file_path) as file:\n",
    "        for line in file:\n",
    "            yield line.strip()  # Yield one line at a time\n",
    "\n",
    "for line in read_large_file('large_file.txt'):\n",
    "    print(line)  # Processes one line at a time\n",
    "\n",
    "\n",
    "\n",
    "\n"
   ]
  },
  {
   "cell_type": "code",
   "execution_count": 15,
   "metadata": {},
   "outputs": [
    {
     "name": "stdout",
     "output_type": "stream",
     "text": [
      "0\n",
      "4\n",
      "16\n",
      "36\n",
      "64\n"
     ]
    }
   ],
   "source": [
    "#example of pipeline sequences\n",
    "\n",
    "def filter_even(numberes):\n",
    "    for number in numberes:\n",
    "        if number%2==0:\n",
    "            yield number\n",
    "\n",
    "\n",
    "def square(numbers):\n",
    "    for number in numbers:\n",
    "        yield number**2\n",
    "        \n",
    "numbers=range(10)\n",
    "even_numbers=filter_even(numbers)\n",
    "squared_even_numbers=square(even_numbers)\n",
    "for nummber in squared_even_numbers:\n",
    "    print(nummber)"
   ]
  },
  {
   "cell_type": "code",
   "execution_count": 4,
   "metadata": {},
   "outputs": [
    {
     "name": "stdout",
     "output_type": "stream",
     "text": [
      "0\n",
      "1\n",
      "2\n",
      "3\n",
      "4\n",
      "5\n",
      "6\n",
      "7\n",
      "8\n",
      "9\n"
     ]
    }
   ],
   "source": [
    "def generateNumbers(number):\n",
    "    for i in range(number):\n",
    "        yield(i)\n",
    "\n",
    "for i in generateNumbers(10):\n",
    "    print(i)\n",
    "\n",
    "\n",
    "\n",
    "\n"
   ]
  },
  {
   "cell_type": "code",
   "execution_count": 15,
   "metadata": {},
   "outputs": [
    {
     "name": "stdout",
     "output_type": "stream",
     "text": [
      "Decarator execution started\n",
      "Decarator execution ended\n",
      "wrapper execution started\n",
      "Hello vasudeva :)\n",
      "wrapper execution ended\n"
     ]
    }
   ],
   "source": [
    "def decaratorOne(function):\n",
    "    print('Decarator execution started')\n",
    "    def wrapper():\n",
    "        print('wrapper execution started')\n",
    "        function()\n",
    "        print('wrapper execution ended')\n",
    "    print('Decarator execution ended')\n",
    "    return wrapper\n",
    "    \n",
    "@decaratorOne\n",
    "def say_hello():\n",
    "    print('Hello vasudeva :)')\n",
    "\n",
    "say_hello()"
   ]
  },
  {
   "cell_type": "code",
   "execution_count": 1,
   "metadata": {},
   "outputs": [
    {
     "name": "stdout",
     "output_type": "stream",
     "text": [
      "{1: 1, 2: 4, 3: 9, 4: 16, 5: 25}\n"
     ]
    }
   ],
   "source": [
    "lis=[1,2,3,4,5]\n",
    "squares_dict={i:i*i for i in lis}\n",
    "\n",
    "print(squares_dict)"
   ]
  },
  {
   "cell_type": "code",
   "execution_count": 9,
   "metadata": {},
   "outputs": [
    {
     "name": "stdout",
     "output_type": "stream",
     "text": [
      "Gievn number is: 5\n",
      "Square of the given number is: 25\n"
     ]
    }
   ],
   "source": [
    "def square_the_given_number(function):\n",
    "    def wrapper(*args):\n",
    "        # print('wrapper execution started')\n",
    "        function(*args)\n",
    "        print('Square of the given number is:',args[0]**2)\n",
    "    return wrapper\n",
    "\n",
    "@square_the_given_number\n",
    "def print_given_number(number):\n",
    "    print('Gievn number is:',number)\n",
    "\n",
    "print_given_number(5)\n",
    "\n"
   ]
  },
  {
   "cell_type": "markdown",
   "metadata": {},
   "source": [
    "## function cacheing\n",
    "Function caching in Python is a technique used to store the results of expensive function calls so that they can be reused instead of recalculated. This can significantly improve the performance of a program by reducing the number of times a function is called.\n",
    "\n",
    "Here are some key aspects of function caching in Python:\n",
    "\n",
    "**Why use function caching?**\n",
    "\n",
    "1. **Performance improvement**: Function caching can improve the performance of a program by reducing the number of times a function is called.\n",
    "2. **Reducing redundant calculations**: Function caching can avoid redundant calculations by storing the results of previous function calls.\n",
    "3. **Improving responsiveness**: Function caching can improve the responsiveness of a program by reducing the time it takes to respond to user input.\n",
    "\n",
    "**Types of function caching**\n",
    "\n",
    "1. **Simple caching**: This involves storing the results of function calls in a dictionary or other data structure.\n",
    "2. **LRU caching**: This involves storing the results of function calls in a cache with a limited size, where the least recently used items are discarded when the cache is full.\n",
    "3. **Memoization**: This involves storing the results of function calls in a cache, where the cache is used to store the results of previous function calls.\n",
    "\n",
    "**How to implement function caching in Python**\n",
    "\n",
    "1. **Using a dictionary**: You can use a dictionary to store the results of function calls.\n",
    "2. **Using the `functools.lru_cache` decorator**: This decorator provides a simple way to implement LRU caching in Python.\n",
    "3. **Using a third-party library**: There are several third-party libraries available that provide function caching functionality, such as `joblib` and `cachetools`.\n",
    "\n",
    "**Best practices for function caching**\n",
    "\n",
    "1. **Use caching for expensive function calls**: Caching is most effective for expensive function calls that are called frequently.\n",
    "2. **Use a cache with a limited size**: This can help prevent the cache from growing too large and consuming too much memory.\n",
    "3. **Use a cache with a time-to-live (TTL)**: This can help ensure that the cache is updated regularly and that stale data is not returned.\n",
    "\n",
    "**Common use cases for function caching**\n",
    "\n",
    "1. **Database queries**: Function caching can be used to cache the results of database queries, reducing the number of queries made to the database.\n",
    "2. **API calls**: Function caching can be used to cache the results of API calls, reducing the number of calls made to the API.\n",
    "3. **Complex calculations**: Function caching can be used to cache the results of complex calculations, reducing the number of times the calculation is performed.\n",
    "\n",
    "In summary, function caching is a powerful technique that can be used to improve the performance of a program by reducing the number of times a function is called. By using a cache to store the results of function calls, you can avoid redundant calculations and improve the responsiveness of your program."
   ]
  },
  {
   "cell_type": "code",
   "execution_count": 13,
   "metadata": {},
   "outputs": [
    {
     "name": "stdout",
     "output_type": "stream",
     "text": [
      "1307674368000\n",
      "1307674368000\n"
     ]
    }
   ],
   "source": [
    "import functools\n",
    "\n",
    "@functools.lru_cache(maxsize=None)\n",
    "def factorial(n):\n",
    "    if n == 1:\n",
    "        return 1\n",
    "    else:\n",
    "        return n * factorial(n - 1)\n",
    "\n",
    "print(factorial(15))  # prints 120\n",
    "print(factorial(15))  # returns the cached result\n"
   ]
  },
  {
   "cell_type": "markdown",
   "metadata": {},
   "source": [
    "## Lambda functions\n",
    "Lambda functions in Python are small, anonymous functions that can be defined inline within a larger expression. They are used to create small, one-time use functions."
   ]
  },
  {
   "cell_type": "code",
   "execution_count": 14,
   "metadata": {},
   "outputs": [
    {
     "name": "stdout",
     "output_type": "stream",
     "text": [
      "15\n"
     ]
    }
   ],
   "source": [
    "add_five = lambda x: x + 5\n",
    "print(add_five(10))  # Output: 15\n"
   ]
  }
 ],
 "metadata": {
  "kernelspec": {
   "display_name": "Python 3",
   "language": "python",
   "name": "python3"
  },
  "language_info": {
   "codemirror_mode": {
    "name": "ipython",
    "version": 3
   },
   "file_extension": ".py",
   "mimetype": "text/x-python",
   "name": "python",
   "nbconvert_exporter": "python",
   "pygments_lexer": "ipython3",
   "version": "3.12.1"
  }
 },
 "nbformat": 4,
 "nbformat_minor": 2
}
