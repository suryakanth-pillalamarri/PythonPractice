{
 "cells": [
  {
   "cell_type": "markdown",
   "metadata": {},
   "source": [
    "Certainly! Here's a list of 20 Python interview questions in a concise format:\n",
    "\n",
    "Reverse a string.\n",
    "Check if a string is a palindrome.\n",
    "Find the factorial of a number.\n",
    "Sort a list of strings based on their lengths.\n",
    "Count the occurrences of each word in a sentence.\n",
    "Find the largest number in a list.\n",
    "Implement a stack using a list.\n",
    "Check if a given number is prime.\n",
    "Merge two sorted lists into one sorted list.\n",
    "Reverse words in a sentence.\n",
    "Remove duplicates from a list.\n",
    "Check if two strings are anagrams.\n",
    "Implement FizzBuzz.\n",
    "Find the second largest number in a list.\n",
    "Calculate the sum of digits in a number.\n",
    "Implement binary search on a sorted list.\n",
    "Find the intersection of two lists.\n",
    "Calculate the Fibonacci sequence up to a certain number.\n",
    "Implement a queue using two stacks.\n",
    "Find the missing number in a given integer array of 1 to 100."
   ]
  },
  {
   "cell_type": "code",
   "execution_count": 2,
   "metadata": {},
   "outputs": [
    {
     "name": "stdout",
     "output_type": "stream",
     "text": [
      "anhsirk\n"
     ]
    }
   ],
   "source": [
    "#reverse a string\n",
    "string1=\"krishna\"\n",
    "print(string1[::-1])"
   ]
  },
  {
   "cell_type": "code",
   "execution_count": 4,
   "metadata": {},
   "outputs": [
    {
     "name": "stdout",
     "output_type": "stream",
     "text": [
      "palindrome\n"
     ]
    }
   ],
   "source": [
    "# Check if a string is a palindrome.\n",
    "string2=\"aba\"\n",
    "if string2==string2[::-1]:\n",
    "    print(\"palindrome\")\n",
    "else:\n",
    "    print('Not a palindrome')"
   ]
  },
  {
   "cell_type": "code",
   "execution_count": 6,
   "metadata": {},
   "outputs": [
    {
     "name": "stdout",
     "output_type": "stream",
     "text": [
      "362880\n"
     ]
    }
   ],
   "source": [
    "#Find the factorial of a number.\n",
    "def factorial(n):\n",
    "    if n==1:\n",
    "        return 1\n",
    "    else:\n",
    "        return n*factorial(n-1)\n",
    "\n",
    "\n",
    "print(factorial(9))"
   ]
  },
  {
   "cell_type": "code",
   "execution_count": 12,
   "metadata": {},
   "outputs": [
    {
     "name": "stdout",
     "output_type": "stream",
     "text": [
      "Sorted list ['a', 'ab', 'abc', 'abcd']\n",
      "{'a': 1, 'ab': 2, 'abc': 3, 'abcd': 4}\n"
     ]
    }
   ],
   "source": [
    "#Sort a list of strings based on their lengths.\n",
    "#If two strings have the same length, sort them in alphabetical order.\n",
    "#For example, given the list [\"a\", \"abc\", \"ab\", \"abcd\"], return\n",
    "#[\"a\", \"ab\", \"abc\", \"abcd\"].\n",
    "dict1={}\n",
    "lis=[\"a\", \"abc\", \"ab\", \"abcd\"]\n",
    "for ele in lis:\n",
    "    dict1[ele]=len(ele)\n",
    "\n",
    "# print(dict1)\n",
    "#now sorting the values based on the keys.\n",
    "sorted_dict=dict(sorted(dict1.items(),key=lambda x:x[1]))\n",
    "list1=list(sorted_dict.keys())\n",
    "print('Sorted list',list1)\n",
    "\n",
    "# sorted_dict=dict(sorted(dict1.items(),key=lambda x:x[1]))\n",
    "print(sorted_dict)"
   ]
  },
  {
   "cell_type": "code",
   "execution_count": 15,
   "metadata": {},
   "outputs": [
    {
     "name": "stdout",
     "output_type": "stream",
     "text": [
      "{1: 6, 2: 4, 3: 2, 4: 2, 5: 2}\n"
     ]
    }
   ],
   "source": [
    "# Count the occurrences of each element in a list.\n",
    "\n",
    "list2=[1,1,2,2,1,1,2,3,3,2,1,1,4,4,5,5]\n",
    "# set1=[]\n",
    "# for i in list2:\n",
    "#     if i not in set1:\n",
    "#         set1.append(i)\n",
    "# freq=[0]*len(set1)\n",
    "# for ele in set1:\n",
    "#     if ele in list2:\n",
    "#         freq[set1.index(ele)]=list2.count(ele)\n",
    "# dict2=dict(zip(set1,freq))\n",
    "# print(dict2)\n",
    "\n",
    "\n",
    "set1=[]\n",
    "\n",
    "for i in list2:\n",
    "    if i not in set1:\n",
    "        set1.append(i)\n",
    "\n",
    "freq=[0]*len(set1)\n",
    "\n",
    "for ele in set1:\n",
    "    freq[set1.index(ele)]=list2.count(ele)\n",
    "\n",
    "dict2=dict(zip(set1,freq))\n",
    "\n",
    "print(dict2)\n",
    "\n"
   ]
  },
  {
   "cell_type": "code",
   "execution_count": 16,
   "metadata": {},
   "outputs": [
    {
     "name": "stdout",
     "output_type": "stream",
     "text": [
      "Counter({'rama': 3, 'jaya': 3, 'Sri': 1})\n"
     ]
    }
   ],
   "source": [
    "# Count the occurrences of each word in a sentence.\n",
    "from collections import Counter\n",
    "sentence=\"Sri rama jaya rama jaya jaya rama\"\n",
    "\n",
    "senlist=sentence.split()\n",
    "c=Counter(senlist)\n",
    "\n",
    "print(c)"
   ]
  },
  {
   "cell_type": "code",
   "execution_count": 2,
   "metadata": {},
   "outputs": [
    {
     "name": "stdout",
     "output_type": "stream",
     "text": [
      "vasudeva\n"
     ]
    }
   ],
   "source": [
    "print('vasudeva')"
   ]
  },
  {
   "cell_type": "markdown",
   "metadata": {},
   "source": [
    "# Decarator"
   ]
  },
  {
   "cell_type": "code",
   "execution_count": 10,
   "metadata": {},
   "outputs": [],
   "source": [
    "def greet_decarator(function):\n",
    "    def wrapper():\n",
    "        print(\"Hello, I'm a decorator!\")\n",
    "        print(\"i am nothing but wrapper fuunction like wrapper to gift\")\n",
    "        function()\n",
    "    return wrapper"
   ]
  },
  {
   "cell_type": "code",
   "execution_count": 11,
   "metadata": {},
   "outputs": [
    {
     "name": "stdout",
     "output_type": "stream",
     "text": [
      "Hello, I'm a decorator!\n",
      "i am nothing but wrapper fuunction like wrapper to gift\n",
      "Hello! from the original function :)\n"
     ]
    }
   ],
   "source": [
    "@greet_decarator\n",
    "def say_hello():\n",
    "    print(\"Hello! from the original function :)\")\n",
    "    \n",
    "say_hello()"
   ]
  },
  {
   "cell_type": "markdown",
   "metadata": {},
   "source": [
    "# generator\n",
    "Generatoers are used while reding large files,for handling infinite sequences,pipelining operations,anonymous programing and memorey efficiency\n",
    "\n",
    "\n",
    "def read_large_file(file_path):\n",
    "    with open(file_path) as file:\n",
    "        for line in file:\n",
    "            yield line.strip()  # Yield one line at a time\n",
    "\n",
    "for line in read_large_file('large_file.txt'):\n",
    "    print(line)  # Processes one line at a time\n",
    "\n",
    "\n",
    "\n",
    "\n"
   ]
  },
  {
   "cell_type": "code",
   "execution_count": 15,
   "metadata": {},
   "outputs": [
    {
     "name": "stdout",
     "output_type": "stream",
     "text": [
      "0\n",
      "4\n",
      "16\n",
      "36\n",
      "64\n"
     ]
    }
   ],
   "source": [
    "#example of pipeline sequences\n",
    "\n",
    "def filter_even(numberes):\n",
    "    for number in numberes:\n",
    "        if number%2==0:\n",
    "            yield number\n",
    "\n",
    "\n",
    "def square(numbers):\n",
    "    for number in numbers:\n",
    "        yield number**2\n",
    "        \n",
    "numbers=range(10)\n",
    "even_numbers=filter_even(numbers)\n",
    "squared_even_numbers=square(even_numbers)\n",
    "for nummber in squared_even_numbers:\n",
    "    print(nummber)"
   ]
  },
  {
   "cell_type": "code",
   "execution_count": 4,
   "metadata": {},
   "outputs": [
    {
     "name": "stdout",
     "output_type": "stream",
     "text": [
      "0\n",
      "1\n",
      "2\n",
      "3\n",
      "4\n",
      "5\n",
      "6\n",
      "7\n",
      "8\n",
      "9\n"
     ]
    }
   ],
   "source": [
    "def generateNumbers(number):\n",
    "    for i in range(number):\n",
    "        yield(i)\n",
    "\n",
    "for i in generateNumbers(10):\n",
    "    print(i)\n",
    "\n",
    "\n",
    "\n",
    "\n"
   ]
  },
  {
   "cell_type": "code",
   "execution_count": 15,
   "metadata": {},
   "outputs": [
    {
     "name": "stdout",
     "output_type": "stream",
     "text": [
      "Decarator execution started\n",
      "Decarator execution ended\n",
      "wrapper execution started\n",
      "Hello vasudeva :)\n",
      "wrapper execution ended\n"
     ]
    }
   ],
   "source": [
    "def decaratorOne(function):\n",
    "    print('Decarator execution started')\n",
    "    def wrapper():\n",
    "        print('wrapper execution started')\n",
    "        function()\n",
    "        print('wrapper execution ended')\n",
    "    print('Decarator execution ended')\n",
    "    return wrapper\n",
    "    \n",
    "@decaratorOne\n",
    "def say_hello():\n",
    "    print('Hello vasudeva :)')\n",
    "\n",
    "say_hello()"
   ]
  },
  {
   "cell_type": "code",
   "execution_count": 1,
   "metadata": {},
   "outputs": [
    {
     "name": "stdout",
     "output_type": "stream",
     "text": [
      "{1: 1, 2: 4, 3: 9, 4: 16, 5: 25}\n"
     ]
    }
   ],
   "source": [
    "lis=[1,2,3,4,5]\n",
    "squares_dict={i:i*i for i in lis}\n",
    "\n",
    "print(squares_dict)"
   ]
  },
  {
   "cell_type": "code",
   "execution_count": 17,
   "metadata": {},
   "outputs": [
    {
     "name": "stdout",
     "output_type": "stream",
     "text": [
      "Gievn number is: 5\n",
      "Square of the given number is: 25\n"
     ]
    }
   ],
   "source": [
    "def square_the_given_number(function):\n",
    "    def wrapper(*args):\n",
    "        # print('wrapper execution started')\n",
    "        function(*args)\n",
    "        print('Square of the given number is:',args[0]**2)\n",
    "    return wrapper\n",
    "\n",
    "@square_the_given_number\n",
    "def print_given_number(number):\n",
    "    print('Gievn number is:',number)\n",
    "\n",
    "print_given_number(5)\n",
    "\n"
   ]
  },
  {
   "cell_type": "markdown",
   "metadata": {},
   "source": [
    "## function cacheing\n",
    "Function caching in Python is a technique used to store the results of expensive function calls so that they can be reused instead of recalculated. This can significantly improve the performance of a program by reducing the number of times a function is called.\n",
    "\n",
    "Here are some key aspects of function caching in Python:\n",
    "\n",
    "**Why use function caching?**\n",
    "\n",
    "1. **Performance improvement**: Function caching can improve the performance of a program by reducing the number of times a function is called.\n",
    "2. **Reducing redundant calculations**: Function caching can avoid redundant calculations by storing the results of previous function calls.\n",
    "3. **Improving responsiveness**: Function caching can improve the responsiveness of a program by reducing the time it takes to respond to user input.\n",
    "\n",
    "**Types of function caching**\n",
    "\n",
    "1. **Simple caching**: This involves storing the results of function calls in a dictionary or other data structure.\n",
    "2. **LRU caching**: This involves storing the results of function calls in a cache with a limited size, where the least recently used items are discarded when the cache is full.\n",
    "3. **Memoization**: This involves storing the results of function calls in a cache, where the cache is used to store the results of previous function calls.\n",
    "\n",
    "**How to implement function caching in Python**\n",
    "\n",
    "1. **Using a dictionary**: You can use a dictionary to store the results of function calls.\n",
    "2. **Using the `functools.lru_cache` decorator**: This decorator provides a simple way to implement LRU caching in Python.\n",
    "3. **Using a third-party library**: There are several third-party libraries available that provide function caching functionality, such as `joblib` and `cachetools`.\n",
    "\n",
    "**Best practices for function caching**\n",
    "\n",
    "1. **Use caching for expensive function calls**: Caching is most effective for expensive function calls that are called frequently.\n",
    "2. **Use a cache with a limited size**: This can help prevent the cache from growing too large and consuming too much memory.\n",
    "3. **Use a cache with a time-to-live (TTL)**: This can help ensure that the cache is updated regularly and that stale data is not returned.\n",
    "\n",
    "**Common use cases for function caching**\n",
    "\n",
    "1. **Database queries**: Function caching can be used to cache the results of database queries, reducing the number of queries made to the database.\n",
    "2. **API calls**: Function caching can be used to cache the results of API calls, reducing the number of calls made to the API.\n",
    "3. **Complex calculations**: Function caching can be used to cache the results of complex calculations, reducing the number of times the calculation is performed.\n",
    "\n",
    "In summary, function caching is a powerful technique that can be used to improve the performance of a program by reducing the number of times a function is called. By using a cache to store the results of function calls, you can avoid redundant calculations and improve the responsiveness of your program."
   ]
  },
  {
   "cell_type": "code",
   "execution_count": 13,
   "metadata": {},
   "outputs": [
    {
     "name": "stdout",
     "output_type": "stream",
     "text": [
      "1307674368000\n",
      "1307674368000\n"
     ]
    }
   ],
   "source": [
    "import functools\n",
    "\n",
    "@functools.lru_cache(maxsize=None)\n",
    "def factorial(n):\n",
    "    if n == 1:\n",
    "        return 1\n",
    "    else:\n",
    "        return n * factorial(n - 1)\n",
    "\n",
    "print(factorial(15))  # prints 120\n",
    "print(factorial(15))  # returns the cached result\n"
   ]
  },
  {
   "cell_type": "markdown",
   "metadata": {},
   "source": [
    "## Lambda functions\n",
    "Lambda functions in Python are small, anonymous functions that can be defined inline within a larger expression. They are used to create small, one-time use functions."
   ]
  },
  {
   "cell_type": "code",
   "execution_count": 14,
   "metadata": {},
   "outputs": [
    {
     "name": "stdout",
     "output_type": "stream",
     "text": [
      "15\n"
     ]
    }
   ],
   "source": [
    "add_five = lambda x: x + 5\n",
    "print(add_five(10))  # Output: 15\n"
   ]
  },
  {
   "cell_type": "markdown",
   "metadata": {},
   "source": [
    "# Most common python coding constructs"
   ]
  },
  {
   "cell_type": "markdown",
   "metadata": {},
   "source": [
    "### 1. Sorting\n",
    "\n",
    "sorted() function: sorted(arr) sorts the array in ascending order.<br>\n",
    "sort() method: arr.sort() sorts the array in ascending order.<br>\n",
    "sorted() function with custom key: sorted(arr, key=lambda x: x[0]) sorts the array based on the first element of each tuple.<br>"
   ]
  },
  {
   "cell_type": "code",
   "execution_count": 4,
   "metadata": {},
   "outputs": [
    {
     "name": "stdout",
     "output_type": "stream",
     "text": [
      "[4, 5, 6, 7, 8, 9]\n"
     ]
    }
   ],
   "source": [
    "list1=[9,8,7,6,5,4]\n",
    "list1.sort()\n",
    "print(list1)"
   ]
  },
  {
   "cell_type": "code",
   "execution_count": 6,
   "metadata": {},
   "outputs": [
    {
     "name": "stdout",
     "output_type": "stream",
     "text": [
      "{4: 'neelakanta', 5: 'siva', 6: 'senkara', 7: 'vasudeva', 8: 'rama', 9: 'krishna'}\n"
     ]
    }
   ],
   "source": [
    "dict1={9:'krishna',8:'rama',7:'vasudeva',6:'senkara',5:'siva',4:'neelakanta'}\n",
    "sorted_d=sorted(dict1.items())\n",
    "print(dict(sorted_d))"
   ]
  },
  {
   "cell_type": "code",
   "execution_count": 9,
   "metadata": {},
   "outputs": [
    {
     "name": "stdout",
     "output_type": "stream",
     "text": [
      "{'krishna': 9, 'rama': 8, 'vasudeva': 7, 'senkara': 6, 'siva': 5, 'neelakanta': 4}\n"
     ]
    }
   ],
   "source": [
    "dict2={value:key for key,value in dict1.items()}\n",
    "print(dict2)"
   ]
  },
  {
   "cell_type": "markdown",
   "metadata": {},
   "source": [
    "## 2. Searching\n",
    "\n",
    "in operator: x in arr checks if x is present in the array.<br>\n",
    "index() method: arr.index(x) returns the index of x in the array.<br>\n",
    "find() method: arr.find(x) returns the index of x in the array.<br>"
   ]
  },
  {
   "cell_type": "code",
   "execution_count": 17,
   "metadata": {},
   "outputs": [
    {
     "name": "stdout",
     "output_type": "stream",
     "text": [
      "3\n"
     ]
    }
   ],
   "source": [
    "list3=[9,8,7,6,9,8,6,56]\n",
    "print(list3.index(6))"
   ]
  },
  {
   "cell_type": "markdown",
   "metadata": {},
   "source": [
    "## 3. String Manipulation\n",
    "\n",
    "split() method: str.split() splits the string into a list of words.<br>\n",
    "join() method: str.join() joins the list of words into a string.<br>\n",
    "replace() method: str.replace() replaces a substring with another substring."
   ]
  },
  {
   "cell_type": "code",
   "execution_count": 34,
   "metadata": {},
   "outputs": [
    {
     "name": "stdout",
     "output_type": "stream",
     "text": [
      " sri rama jaya rama jaya jaya rama \n",
      " SRI RAMA JAYA RAMA JAYA JAYA RAMA \n",
      "index of r letter(first occurence): 2\n",
      " Sri Rama Jaya Rama Jaya Jaya Rama \n",
      "sri rama jaya rama jaya jaya rama \n",
      " sri rama jaya rama jaya jaya rama\n",
      "sri rama jaya rama jaya jaya rama\n",
      "['sri', 'rama', 'jaya', 'rama', 'jaya', 'jaya', 'rama']\n",
      "rama occured 3 times\n",
      "True\n"
     ]
    }
   ],
   "source": [
    "sr=\" sri rama jaya rama jaya jaya rama \"\n",
    "print(sr.capitalize())\n",
    "print(sr.upper())\n",
    "print('index of r letter(first occurence):',sr.index('r'))\n",
    "print(sr.title())\n",
    "print(sr.lstrip())\n",
    "print(sr.rstrip())\n",
    "sr=sr.strip()\n",
    "print(sr)\n",
    "print(sr.split(' '))\n",
    "print(f'rama occured {sr.count('rama')} times')\n",
    "print(\"string starts with\",sr.startswith('sri'))"
   ]
  },
  {
   "cell_type": "code",
   "execution_count": 50,
   "metadata": {},
   "outputs": [
    {
     "name": "stdout",
     "output_type": "stream",
     "text": [
      "1\n",
      "22\n",
      "333\n",
      "4444\n",
      "55555\n",
      "666666\n",
      "7777777\n",
      "88888888\n",
      "999999999\n"
     ]
    }
   ],
   "source": [
    "n=10\n",
    "for i in range(1,n):\n",
    "    print(str(i)*i)"
   ]
  },
  {
   "cell_type": "code",
   "execution_count": 49,
   "metadata": {},
   "outputs": [
    {
     "name": "stdout",
     "output_type": "stream",
     "text": [
      "          1\n",
      "         22\n",
      "        333\n",
      "       4444\n",
      "      55555\n",
      "     666666\n",
      "    7777777\n",
      "   88888888\n",
      "  999999999\n"
     ]
    }
   ],
   "source": [
    "n=10\n",
    "for i in range(1,n):\n",
    "    print(' '*(n-i),str(i)*i)"
   ]
  },
  {
   "cell_type": "code",
   "execution_count": 53,
   "metadata": {},
   "outputs": [
    {
     "name": "stdout",
     "output_type": "stream",
     "text": [
      "          $\n",
      "         $$\n",
      "        $$$\n",
      "       $$$$\n",
      "      $$$$$\n",
      "     $$$$$$\n",
      "    $$$$$$$\n",
      "   $$$$$$$$\n",
      "  $$$$$$$$$\n"
     ]
    }
   ],
   "source": [
    "n=10\n",
    "for i in range(1,n):\n",
    "    print(' '*(n-i),i*'$')"
   ]
  },
  {
   "cell_type": "code",
   "execution_count": 61,
   "metadata": {},
   "outputs": [
    {
     "name": "stdout",
     "output_type": "stream",
     "text": [
      "    $\n",
      "   $$$\n",
      "  $$$$$\n",
      " $$$$$$$\n",
      "$$$$$$$$$\n"
     ]
    }
   ],
   "source": [
    "n=5\n",
    "for i in range(n):\n",
    "    print(' '*(n-i-1)+'$'*(2*i+1))\n",
    "\n"
   ]
  },
  {
   "cell_type": "code",
   "execution_count": 70,
   "metadata": {},
   "outputs": [
    {
     "name": "stdout",
     "output_type": "stream",
     "text": [
      "         $\n",
      "        $$$\n",
      "       $$$$$\n",
      "      $$$$$$$\n",
      "     $$$$$$$$$\n",
      "    $$$$$$$$$$$\n",
      "   $$$$$$$$$$$$$\n",
      "  $$$$$$$$$$$$$$$\n",
      " $$$$$$$$$$$$$$$$$\n",
      "$$$$$$$$$$$$$$$$$$$\n",
      "$$$$$$$$$$$$$$$$$$$\n",
      " $$$$$$$$$$$$$$$$$\n",
      "  $$$$$$$$$$$$$$$\n",
      "   $$$$$$$$$$$$$\n",
      "    $$$$$$$$$$$\n",
      "     $$$$$$$$$\n",
      "      $$$$$$$\n",
      "       $$$$$\n",
      "        $$$\n",
      "         $\n"
     ]
    }
   ],
   "source": [
    "n = 10\n",
    "for i in range(n):\n",
    "    print(' '*(n-i-1)+'$'*(2*i+1))\n",
    "for j in range(n-1,-1,-1):\n",
    "    print(' '*(n-j-1)+'$'*(2*j+1))"
   ]
  },
  {
   "cell_type": "markdown",
   "metadata": {},
   "source": [
    "# Multi threading\n",
    "Multithreading\n",
    "Definition: Multithreading involves running multiple threads (smaller units of a process) within a single process.\n",
    "\n",
    "Concurrency: Offers concurrency, which means threads share the same memory space and can access the same variables. This can lead to data corruption if not handled properly.\n",
    "\n",
    "GIL (Global Interpreter Lock): In CPython (the standard Python implementation), the GIL allows only one thread to execute at a time, which can limit the performance benefits of multithreading, especially for CPU-bound tasks.\n",
    "\n",
    "Best For: I/O-bound tasks (like file reading/writing, network operations), where the program spends time waiting for external events.\n",
    "\n",
    "Overhead: Lower overhead than multiprocessing, as threads are lighter weight and share memory.\n",
    "\n",
    "Multiprocessing\n",
    "Definition: Multiprocessing involves running multiple processes, each with its own memory space.\n",
    "\n",
    "Concurrency: Provides true parallelism by running processes on multiple CPU cores. Each process has its own memory space, so they do not interfere with each other.\n",
    "\n",
    "GIL: Not affected by the GIL, making it more suitable for CPU-bound tasks.\n",
    "\n",
    "Best For: CPU-bound tasks (like computational-heavy operations) where you need to leverage multiple CPU cores.\n",
    "\n",
    "Overhead: Higher overhead compared to multithreading, as each process is heavier and requires its own memory space. Inter-process communication can also be more complex.\n",
    "\n",
    "Comparison\n",
    "Feature\tMultithreading\tMultiprocessing\n",
    "Definition\tMultiple threads in a single process\tMultiple independent processes\n",
    "Concurrency Type\tConcurrency\tParallelism\n",
    "Memory Space\tShared memory space\tSeparate memory space\n",
    "GIL Influence\tAffected by GIL in CPython\tNot affected by GIL\n",
    "Best For\tI/O-bound tasks\tCPU-bound tasks\n",
    "Overhead\tLower overhead, lighter weight\tHigher overhead, heavier weight\n",
    "Communication\tEasier, as threads share memory\tMore complex, needs inter-process communication\n"
   ]
  },
  {
   "cell_type": "code",
   "execution_count": 8,
   "metadata": {},
   "outputs": [],
   "source": [
    "import time\n",
    "def print_numbers(start,end):\n",
    "    if end<start:\n",
    "        print('end is less than start')\n",
    "    for i in range(start,end+1):\n",
    "        print(i)\n",
    "        time.sleep(5)"
   ]
  },
  {
   "cell_type": "code",
   "execution_count": 9,
   "metadata": {},
   "outputs": [
    {
     "name": "stdout",
     "output_type": "stream",
     "text": [
      "end is less than start\n"
     ]
    }
   ],
   "source": [
    "print_numbers(23,9)\n"
   ]
  },
  {
   "cell_type": "code",
   "execution_count": null,
   "metadata": {},
   "outputs": [],
   "source": []
  },
  {
   "cell_type": "code",
   "execution_count": 10,
   "metadata": {},
   "outputs": [
    {
     "name": "stdout",
     "output_type": "stream",
     "text": [
      "1101\n",
      "201\n",
      "301\n",
      "\n",
      "401\n",
      "501\n",
      "601\n",
      "701\n",
      "801\n",
      "901\n"
     ]
    },
    {
     "name": "stdout",
     "output_type": "stream",
     "text": [
      "102\n",
      "202\n",
      "302\n",
      "2\n",
      "402\n",
      "502\n",
      "602\n",
      "702\n",
      "802\n",
      "902\n",
      "103\n",
      "303\n",
      "203\n",
      "3\n",
      "403\n",
      "503\n",
      "603\n",
      "703\n",
      "803\n",
      "903\n",
      "104\n",
      "204\n",
      "304\n",
      "4\n",
      "404\n",
      "504\n",
      "604\n",
      "704\n",
      "804\n",
      "904\n",
      "105\n",
      "205\n",
      "305\n",
      "5\n",
      "405\n",
      "505\n",
      "605\n",
      "705\n",
      "805\n",
      "905\n",
      "106\n",
      "306\n",
      "206\n",
      "6\n",
      "406\n",
      "506\n",
      "606\n",
      "706\n",
      "806\n",
      "906\n",
      "107\n",
      "307\n",
      "207\n",
      "7\n",
      "407\n",
      "507\n",
      "607\n",
      "707\n",
      "807\n",
      "907\n",
      "108\n",
      "308\n",
      "208\n",
      "8\n",
      "408\n",
      "508\n",
      "608\n",
      "708\n",
      "808\n",
      "908\n",
      "109\n",
      "309\n",
      "209\n",
      "9\n",
      "409\n",
      "509\n",
      "609\n",
      "709\n",
      "809\n",
      "909\n",
      "110\n",
      "310\n",
      "210\n",
      "410\n",
      "10\n",
      "510\n",
      "610\n",
      "710\n",
      "810\n",
      "910\n",
      "111\n",
      "311\n",
      "211\n",
      "11\n",
      "411\n",
      "511\n",
      "611\n",
      "711\n",
      "811\n",
      "911\n",
      "112\n",
      "712\n",
      "512\n",
      "12\n",
      "412\n",
      "612\n",
      "312\n",
      "212\n",
      "812\n",
      "912\n",
      "113\n",
      "713\n",
      "513\n",
      "413\n",
      "313\n",
      "13\n",
      "613\n",
      "213\n",
      "813\n",
      "913\n",
      "114\n",
      "614\n",
      "414\n",
      "714\n",
      "314\n",
      "14\n",
      "214\n",
      "514\n",
      "814\n",
      "914\n",
      "115\n",
      "615\n",
      "715\n",
      "15\n",
      "215\n",
      "315\n",
      "415\n",
      "515\n",
      "815\n",
      "915\n",
      "116\n",
      "616\n",
      "916\n",
      "16\n",
      "216\n",
      "316\n",
      "516\n",
      "416\n",
      "816\n",
      "716\n",
      "117\n",
      "617\n",
      "317\n",
      "917\n",
      "817\n",
      "717\n",
      "517\n",
      "17\n",
      "417\n",
      "217\n",
      "118618\n",
      "\n",
      "518\n",
      "318\n",
      "818\n",
      "718\n",
      "18\n",
      "918\n",
      "418\n",
      "218\n",
      "619\n",
      "119\n",
      "719\n",
      "319\n",
      "919\n",
      "519\n",
      "19\n",
      "419\n",
      "219\n",
      "819\n",
      "620320\n",
      "720\n",
      "420\n",
      "\n",
      "820\n",
      "520\n",
      "20\n",
      "120\n",
      "220\n",
      "920\n",
      "721421\n",
      "\n",
      "521\n",
      "21\n",
      "321\n",
      "221\n",
      "821\n",
      "921\n",
      "621\n",
      "121\n",
      "422722\n",
      "222\n",
      "122\n",
      "22\n",
      "\n",
      "822\n",
      "522\n",
      "622\n",
      "322\n",
      "922\n",
      "723223\n",
      "823\n",
      "23\n",
      "423\n",
      "\n",
      "123\n",
      "523\n",
      "623\n",
      "323\n",
      "923\n",
      "224624\n",
      "824\n",
      "424\n",
      "724\n",
      "124\n",
      "524\n",
      "324\n",
      "24\n",
      "924\n",
      "\n",
      "625525\n",
      "825\n",
      "725\n",
      "\n",
      "425\n",
      "125\n",
      "925\n",
      "325\n",
      "25\n",
      "225\n",
      "526\n",
      "826\n",
      "626\n",
      "426\n",
      "126\n",
      "926\n",
      "326\n",
      "26\n",
      "226\n",
      "726\n",
      "527827\n",
      "927\n",
      "627\n",
      "\n",
      "127\n",
      "427\n",
      "327\n",
      "27\n",
      "227\n",
      "727\n",
      "828428\n",
      "328\n",
      "128\n",
      "528\n",
      "928\n",
      "\n",
      "628\n",
      "228\n",
      "728\n",
      "28\n",
      "429929\n",
      "129\n",
      "529\n",
      "\n",
      "329\n",
      "829\n",
      "229\n",
      "29\n",
      "629\n",
      "729\n",
      "930\n",
      "130\n",
      "430\n",
      "730\n",
      "230\n",
      "30\n",
      "630\n",
      "330\n",
      "830\n",
      "530\n",
      "931731\n",
      "31\n",
      "631\n",
      "431\n",
      "131\n",
      "331\n",
      "831\n",
      "\n",
      "231\n",
      "531\n",
      "732632\n",
      "32\n",
      "\n",
      "132\n",
      "332\n",
      "932\n",
      "432\n",
      "832\n",
      "232\n",
      "532\n",
      "63333\n",
      "733\n",
      "\n",
      "533\n",
      "333\n",
      "933\n",
      "433\n",
      "833\n",
      "133\n",
      "233\n",
      "34634\n",
      "734\n",
      "\n",
      "534\n",
      "134\n",
      "834\n",
      "334\n",
      "434\n",
      "934\n",
      "234\n",
      "735635\n",
      "35\n",
      "\n",
      "535\n",
      "935\n",
      "235\n",
      "335\n",
      "435\n",
      "135\n",
      "835\n",
      "636\n",
      "936\n",
      "336\n",
      "536\n",
      "836\n",
      "436\n",
      "136\n",
      "236\n",
      "36\n",
      "736\n",
      "637\n",
      "937\n",
      "837\n",
      "537\n",
      "137\n",
      "37\n",
      "437\n",
      "237\n",
      "737\n",
      "337\n",
      "638\n",
      "338\n",
      "838\n",
      "538\n",
      "138\n",
      "38\n",
      "438\n",
      "238\n",
      "938\n",
      "738\n",
      "639\n",
      "339\n",
      "139\n",
      "539\n",
      "39\n",
      "939\n",
      "439\n",
      "239\n",
      "739\n",
      "839\n",
      "640\n",
      "340\n",
      "140\n",
      "240\n",
      "40\n",
      "440\n",
      "740\n",
      "540\n",
      "840\n",
      "940\n",
      "641\n",
      "141\n",
      "441\n",
      "41\n",
      "741\n",
      "541\n",
      "841\n",
      "941\n",
      "241\n",
      "341\n",
      "642\n",
      "142\n",
      "842\n",
      "242\n",
      "42\n",
      "542\n",
      "942\n",
      "442\n",
      "742\n",
      "342\n",
      "643\n",
      "143\n",
      "43\n",
      "443\n",
      "343\n",
      "243\n",
      "943\n",
      "543\n",
      "743\n",
      "843\n",
      "644\n",
      "144\n",
      "44\n",
      "444\n",
      "344\n",
      "244\n",
      "944\n",
      "544\n",
      "744\n",
      "844\n",
      "645\n",
      "445\n",
      "45\n",
      "345\n",
      "245\n",
      "945\n",
      "545\n",
      "745\n",
      "845\n",
      "145\n",
      "646\n",
      "46\n",
      "446\n",
      "346\n",
      "246\n",
      "946\n",
      "546\n",
      "746\n",
      "846\n",
      "146\n",
      "647\n",
      "47\n",
      "447\n",
      "347\n",
      "247\n",
      "947\n",
      "547\n",
      "747\n",
      "847\n",
      "147\n",
      "648\n",
      "48\n",
      "348\n",
      "948\n",
      "748\n",
      "148\n",
      "448\n",
      "548\n",
      "248\n",
      "848\n",
      "649\n",
      "149\n",
      "49\n",
      "849\n",
      "749\n",
      "549\n",
      "449\n",
      "349\n",
      "249\n",
      "949\n",
      "650\n",
      "450\n",
      "850\n",
      "50\n",
      "750\n",
      "550\n",
      "350\n",
      "250\n",
      "150\n",
      "950\n",
      "651\n",
      "451\n",
      "851\n",
      "51\n",
      "751\n",
      "551\n",
      "351\n",
      "151\n",
      "251\n",
      "951\n"
     ]
    }
   ],
   "source": [
    "import threading\n",
    "\n",
    "threads=[]\n",
    "num_threads=10\n",
    "range_per_thread=1000//num_threads\n",
    "\n",
    "for i in range(num_threads):\n",
    "    start=i*range_per_thread+1\n",
    "    end=(i+1)*range_per_thread\n",
    "    thread=threading.Thread(target=print_numbers,args=(start,end))\n",
    "    thread.start()\n",
    "\n",
    "for thread in threads:\n",
    "    thread.join()"
   ]
  }
 ],
 "metadata": {
  "kernelspec": {
   "display_name": "Python 3",
   "language": "python",
   "name": "python3"
  },
  "language_info": {
   "codemirror_mode": {
    "name": "ipython",
    "version": 3
   },
   "file_extension": ".py",
   "mimetype": "text/x-python",
   "name": "python",
   "nbconvert_exporter": "python",
   "pygments_lexer": "ipython3",
   "version": "3.12.1"
  }
 },
 "nbformat": 4,
 "nbformat_minor": 2
}
